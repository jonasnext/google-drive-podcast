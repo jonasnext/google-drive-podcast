{
  "nbformat": 4,
  "nbformat_minor": 0,
  "metadata": {
    "colab": {
      "name": "untitled",
      "provenance": []
    },
    "kernelspec": {
      "display_name": "Python 3",
      "name": "python3"
    }
  },
  "cells": [
    {
      "cell_type": "code",
      "metadata": {
        "id": "iRBbrJjdJqof"
      },
      "source": [
        "import uuid\n",
        "import datetime\n",
        "import requests\n",
        "import re"
      ],
      "execution_count": null,
      "outputs": []
    },
    {
      "cell_type": "code",
      "metadata": {
        "id": "9qD1spTpnj12"
      },
      "source": [
        "# https://colab.research.google.com/notebooks/io.ipynb\n",
        "# https://colab.research.google.com/notebooks/snippets/drive.ipynb\n",
        "\n",
        "from google.colab import auth, drive, files\n",
        "from pydrive.auth import GoogleAuth\n",
        "from pydrive.drive import GoogleDrive\n",
        "from oauth2client.client import GoogleCredentials"
      ],
      "execution_count": null,
      "outputs": []
    },
    {
      "cell_type": "code",
      "metadata": {
        "id": "vhri_WM_nl-F"
      },
      "source": [
        "gDrive = '/content/drive'\n",
        "myDrive = '/content/drive/My Drive'\n",
        "drive.mount(gDrive)"
      ],
      "execution_count": null,
      "outputs": []
    },
    {
      "cell_type": "code",
      "metadata": {
        "id": "_AKpLc_Tnng8"
      },
      "source": [
        "def google_drive_auth():\n",
        "  auth.authenticate_user()\n",
        "  gauth = GoogleAuth()\n",
        "  gauth.credentials = GoogleCredentials.get_application_default()\n",
        "  drive = GoogleDrive(gauth)\n",
        "\n",
        "google_drive_auth()"
      ],
      "execution_count": null,
      "outputs": []
    },
    {
      "cell_type": "code",
      "metadata": {
        "id": "aj1efk_YnrOz"
      },
      "source": [
        "# constants\n",
        "\n",
        "title = \"_\"\n",
        "author = \"_\"\n",
        "description = \"_\"\n",
        "imageURL = \"https://octodex.github.com/images/original.png\"\n",
        "link = \"https://www.google.com\"\n",
        "copyright = \"Copyright © 2020 X. All rights reserved\"\n",
        "\n",
        "directory = \"podcast\""
      ],
      "execution_count": null,
      "outputs": []
    },
    {
      "cell_type": "code",
      "metadata": {
        "id": "4y38zMfSnuxz"
      },
      "source": [
        "# upload files to Google Colab -> Google Drive\n",
        "\n",
        "# make directory in google drive to copy audio files to\n",
        "!mkdir -p \"{myDrive}/{directory}/\"\n",
        "\n",
        "uploaded = files.upload()\n",
        "\n",
        "for key, value in uploaded.items():\n",
        "  _ = len(uploaded[key])\n",
        "  with open(f'{myDrive}/{directory}/{key}', 'wb') as f:\n",
        "    f.write(value)"
      ],
      "execution_count": null,
      "outputs": []
    },
    {
      "cell_type": "code",
      "metadata": {
        "id": "YsXUIGkCnxma"
      },
      "source": [
        "def convertDate(string):\n",
        "  date = datetime.datetime.strptime(string, \"%Y-%m-%dT%H:%M:%S.%fZ\")\n",
        "  date = date.replace(tzinfo=datetime.timezone.utc)\n",
        "  result = date.strftime(\"%a, %d %b %Y %H:%M:%S %z\")\n",
        "  return result\n",
        "\n",
        "# test\n",
        "convertDate(\"2020-12-20T09:00:00.000Z\")"
      ],
      "execution_count": null,
      "outputs": []
    },
    {
      "cell_type": "code",
      "metadata": {
        "id": "53QQjPY2n0S6"
      },
      "source": [
        "# https://developers.google.com/drive/api/v3/search-files\n",
        "\n",
        "\n",
        "def googleDriveFiles(filetypes, directory=\"root\"):\n",
        "    google_drive_auth()\n",
        "\n",
        "    filetypes = [f\"title contains '.{filetype}'\" for filetype in filetypes]\n",
        "    filetypes = \" or \".join(filetypes)\n",
        "\n",
        "    if directory != \"root\":\n",
        "        listed = drive.ListFile({\"q\": f\"title = '{directory}'\"}).GetList()\n",
        "        assert len(listed) == 1\n",
        "        directory = listed[0][\"id\"]\n",
        "    listed = drive.ListFile(\n",
        "        {\"q\": f\"({filetypes}) and '{directory}' in parents\"}\n",
        "    ).GetList()\n",
        "\n",
        "    # https://developers.google.com/drive/api/v3/reference/permissions\n",
        "\n",
        "    for file in listed:\n",
        "        id = file[\"id\"]\n",
        "        permission = {\"id\": id, \"type\": \"anyone\", \"role\": \"reader\"}\n",
        "        gauth.service.permissions().insert(fileId=id, body=permission).execute()\n",
        "\n",
        "    return list(\n",
        "        map(\n",
        "            lambda arg: {\n",
        "                \"title\": arg[\"title\"],\n",
        "                \"url\": arg[\"webContentLink\"],\n",
        "                \"mimeType\": arg[\"mimeType\"],\n",
        "                \"createdDate\": arg[\"createdDate\"],\n",
        "                \"modifiedDate\": arg[\"modifiedDate\"],\n",
        "                \"date\": convertDate(arg[\"modifiedDate\"]),\n",
        "                \"fileSize\": arg[\"fileSize\"],\n",
        "                \"duration\": 0,\n",
        "                \"guid\": arg[\"title\"],\n",
        "                \"uuid\": str(uuid.uuid4()),\n",
        "                \"link\": link,\n",
        "                \"description\": \"_\",\n",
        "            },\n",
        "            listed,\n",
        "        )\n",
        "    )\n"
      ],
      "execution_count": null,
      "outputs": []
    }
  ]
}
