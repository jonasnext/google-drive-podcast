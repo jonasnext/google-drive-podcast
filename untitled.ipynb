{
  "nbformat": 4,
  "nbformat_minor": 0,
  "metadata": {
    "colab": {
      "name": "untitled",
      "provenance": []
    },
    "kernelspec": {
      "display_name": "Python 3",
      "name": "python3"
    }
  },
  "cells": [
    {
      "cell_type": "code",
      "metadata": {
        "id": "iRBbrJjdJqof"
      },
      "source": [
        "import uuid\n",
        "import datetime\n",
        "import requests\n",
        "import re"
      ],
      "execution_count": null,
      "outputs": []
    },
    {
      "cell_type": "code",
      "metadata": {
        "id": "9qD1spTpnj12"
      },
      "source": [
        "# https://colab.research.google.com/notebooks/io.ipynb\n",
        "# https://colab.research.google.com/notebooks/snippets/drive.ipynb\n",
        "\n",
        "from google.colab import auth, drive, files\n",
        "from pydrive.auth import GoogleAuth\n",
        "from pydrive.drive import GoogleDrive\n",
        "from oauth2client.client import GoogleCredentials"
      ],
      "execution_count": null,
      "outputs": []
    },
    {
      "cell_type": "code",
      "metadata": {
        "id": "vhri_WM_nl-F"
      },
      "source": [
        "gDrive = \"/content/drive\"\n",
        "myDrive = \"/content/drive/My Drive\"\n",
        "drive.mount(gDrive)"
      ],
      "execution_count": null,
      "outputs": []
    },
    {
      "cell_type": "code",
      "metadata": {
        "id": "_AKpLc_Tnng8"
      },
      "source": [
        "def google_drive_auth():\n",
        "  auth.authenticate_user()\n",
        "  gauth = GoogleAuth()\n",
        "  gauth.credentials = GoogleCredentials.get_application_default()\n",
        "  drive = GoogleDrive(gauth)\n",
        "  return gauth, drive\n",
        "\n",
        "gauth, drive = google_drive_auth()"
      ],
      "execution_count": null,
      "outputs": []
    },
    {
      "cell_type": "code",
      "metadata": {
        "id": "aj1efk_YnrOz"
      },
      "source": [
        "# constants\n",
        "\n",
        "title = \"_\"\n",
        "author = \"_\"\n",
        "description = \"_\"\n",
        "imageURL = \"https://octodex.github.com/images/original.png\"\n",
        "link = \"https://www.google.com\"\n",
        "copyright = \"Copyright © 2020 X. All rights reserved\"\n",
        "\n",
        "directory = \"podcast\""
      ],
      "execution_count": null,
      "outputs": []
    },
    {
      "cell_type": "code",
      "metadata": {
        "id": "4y38zMfSnuxz"
      },
      "source": [
        "# upload files to Google Colab -> Google Drive\n",
        "\n",
        "# make directory in google drive to copy audio files to\n",
        "!mkdir -p \"{myDrive}/{directory}/\"\n",
        "\n",
        "uploaded = files.upload()\n",
        "\n",
        "for key, value in uploaded.items():\n",
        "  _ = len(uploaded[key])\n",
        "  with open(f\"{myDrive}/{directory}/{key}\", \"wb\") as f:\n",
        "    f.write(value)"
      ],
      "execution_count": null,
      "outputs": []
    },
    {
      "cell_type": "code",
      "metadata": {
        "id": "YsXUIGkCnxma"
      },
      "source": [
        "def convertDate(string):\n",
        "  date = datetime.datetime.strptime(string, \"%Y-%m-%dT%H:%M:%S.%fZ\")\n",
        "  date = date.replace(tzinfo=datetime.timezone.utc)\n",
        "  result = date.strftime(\"%a, %d %b %Y %H:%M:%S %z\")\n",
        "  return result\n",
        "\n",
        "# test\n",
        "convertDate(\"2020-12-20T09:00:00.000Z\")"
      ],
      "execution_count": null,
      "outputs": []
    },
    {
      "cell_type": "code",
      "metadata": {
        "id": "53QQjPY2n0S6"
      },
      "source": [
        "# https://developers.google.com/drive/api/v3/search-files\n",
        "\n",
        "\n",
        "def googleDriveFiles(filetypes, directory=\"root\"):\n",
        "    google_drive_auth()\n",
        "\n",
        "    filetypes = [f\"title contains '.{filetype}'\" for filetype in filetypes]\n",
        "    filetypes = \" or \".join(filetypes)\n",
        "\n",
        "    if directory != \"root\":\n",
        "        listed = drive.ListFile({\"q\": f\"title = '{directory}'\"}).GetList()\n",
        "        assert len(listed) == 1\n",
        "        directory = listed[0][\"id\"]\n",
        "    listed = drive.ListFile(\n",
        "        {\"q\": f\"({filetypes}) and '{directory}' in parents\"}\n",
        "    ).GetList()\n",
        "\n",
        "    # https://developers.google.com/drive/api/v3/reference/permissions\n",
        "\n",
        "    for file in listed:\n",
        "        id = file[\"id\"]\n",
        "        permission = {\"id\": id, \"type\": \"anyone\", \"role\": \"reader\"}\n",
        "        gauth.service.permissions().insert(fileId=id, body=permission).execute()\n",
        "\n",
        "    return list(\n",
        "        map(\n",
        "            lambda arg: {\n",
        "                \"title\": arg[\"title\"],\n",
        "                \"url\": arg[\"webContentLink\"],\n",
        "                \"mimeType\": arg[\"mimeType\"],\n",
        "                \"createdDate\": arg[\"createdDate\"],\n",
        "                \"modifiedDate\": arg[\"modifiedDate\"],\n",
        "                \"date\": convertDate(arg[\"modifiedDate\"]),\n",
        "                \"fileSize\": arg[\"fileSize\"],\n",
        "                \"duration\": 0,\n",
        "                \"guid\": arg[\"title\"],\n",
        "                \"uuid\": str(uuid.uuid4()),\n",
        "                \"link\": link,\n",
        "                \"description\": \"_\",\n",
        "            },\n",
        "            listed,\n",
        "        )\n",
        "    )\n"
      ],
      "execution_count": null,
      "outputs": []
    },
    {
      "cell_type": "code",
      "metadata": {
        "id": "SB3KDDk6pPAt"
      },
      "source": [
        "def _sorted(items, reverse = False):\n",
        "  if len(items) == 0:\n",
        "    return items\n",
        "  result = []\n",
        "  # simple natural sort\n",
        "  if all(re.match(r\"^\\d\", item[\"title\"]) for item in items) or all(re.match(r\"\\d$\", item[\"title\"]) for item in items):\n",
        "    result = sorted(items, reverse=reverse, key=lambda arg: list(map(lambda arg: int(arg), re.findall(r\"(^\\d+|\\d+$)\", arg[\"title\"]))))\n",
        "  else:\n",
        "    result = sorted(items, reverse=reverse, key=lambda arg: datetime.datetime.strptime(arg[\"date\"], \"%a, %d %b %Y %H:%M:%S %z\"))\n",
        "  return result\n",
        "\n",
        "# test\n",
        "result = _sorted([{\"id\": 1, \"title\": \"y\", \"date\": \"Wed, 21 Dec 2020 09:00:00 +0000\"}, {\"id\": 0, \"title\": \"x\", \"date\": \"Wed, 20 Dec 2020 10:00:00 +0000\"}])\n",
        "assert(result[0][\"id\"] == 0)\n",
        "result = _sorted([{\"id\": 1, \"title\": \"hello 10\", \"date\": \"Wed, 21 Dec 2020 09:00:00 +0000\"}, {\"id\": 0, \"title\": \"hello 9\", \"date\": \"Wed, 20 Dec 2020 10:00:00 +0000\"}])\n",
        "assert(result[0][\"id\"] == 0)\n",
        "result = _sorted([{\"id\": 1, \"title\": \"10 hello\", \"date\": \"Wed, 21 Dec 2020 09:00:00 +0000\"}, {\"id\": 0, \"title\": \"9 hello\", \"date\": \"Wed, 20 Dec 2020 10:00:00 +0000\"}])\n",
        "assert(result[0][\"id\"] == 0)"
      ],
      "execution_count": null,
      "outputs": []
    },
    {
      "cell_type": "code",
      "metadata": {
        "id": "zCPlIQH-pZNv"
      },
      "source": [
        "def makeItem(item):\n",
        "  title, description, fileSize, mimeType, url, guid, date, duration, link = item[\"title\"], item[\"description\"], item[\"fileSize\"], item[\"mimeType\"], item[\"url\"], item[\"guid\"], item[\"date\"], item[\"duration\"], item[\"link\"]\n",
        "  result = f\"\"\"<item>\n",
        "<title>{title}</title>\n",
        "<description>{description}</description>\n",
        "<enclosure length=\"{fileSize}\" type=\"{mimeType}\" url=\"{url}\"/>\n",
        "<guid>{guid}</guid>\n",
        "<pubDate>{date}</pubDate>\n",
        "<itunes:duration>{duration}</itunes:duration>\n",
        "</item>\"\"\"\n",
        "  return result\n",
        "\n",
        "def makeItems(items):\n",
        "  items = _sorted(items)\n",
        "  result = \"\"\n",
        "  result += \"\\n\"\n",
        "  for item in items:\n",
        "    item = makeItem(item)\n",
        "    result += item\n",
        "    result += \"\\n\"\n",
        "  return result\n",
        "\n",
        "def makePodcast(title, description, link, copyright, author, imageURL, items):\n",
        "  result = f\"\"\"<rss>\n",
        "<channel>\n",
        "<title>{title}</title>\n",
        "<description>{description}</description>\n",
        "<link>{link}</link>\n",
        "<copyright>{copyright}</copyright>\n",
        "<itunes:author>{author}</itunes:author>\n",
        "<itunes:image href=\"{imageURL}\"/>\n",
        "{items}\n",
        "</channel>\n",
        "</rss>\"\"\"\n",
        "  return result"
      ],
      "execution_count": null,
      "outputs": []
    },
    {
      "cell_type": "code",
      "metadata": {
        "id": "V2PbOtCHpzAH"
      },
      "source": [
        "# make podcast\n",
        "\n",
        "items = googleDriveFiles(filetypes=[\"m4a\", \"aac\", \"mp3\"], directory=directory)\n",
        "items = makeItems(items=items)\n",
        "podcast = makePodcast(title=title, description=description, link=link, copyright=copyright, author=author, imageURL=imageURL, items=items)\n",
        "\n",
        "with open(f\"{myDrive}/{directory}/podcast.rss\", \"w\") as file:\n",
        "  file.write(podcast)"
      ],
      "execution_count": null,
      "outputs": []
    },
    {
      "cell_type": "code",
      "metadata": {
        "id": "fE541Q8AqBRr"
      },
      "source": [
        "# get podcast url\n",
        "\n",
        "podcast_file = googleDriveFiles(filetypes=[\"rss\"], directory=directory)\n",
        "print(podcast_file[0][\"url\"])"
      ],
      "execution_count": null,
      "outputs": []
    },
    {
      "cell_type": "code",
      "metadata": {
        "id": "EkIZdNIot0en"
      },
      "source": [
        "# download podcast\n",
        "\n",
        "# files.download(f\"{myDrive}/{directory}/podcast.rss\")"
      ],
      "execution_count": null,
      "outputs": []
    },
    {
      "cell_type": "code",
      "metadata": {
        "id": "RD37YpLyyBu4"
      },
      "source": [
        ""
      ],
      "execution_count": null,
      "outputs": []
    },
    {
      "cell_type": "code",
      "metadata": {
        "id": "tywCuGzNwteR"
      },
      "source": [
        "# podcast example\n",
        "\n",
        "# get 2 audio files from the example url and copy to google drive\n",
        "\n",
        "# exampleURL = \"https://apple.news/podcast/apple_news_today\"\n",
        "\n",
        "# !curl {exampleURL}\n",
        "# response = requests.get(url=exampleURL, verify=False)\n",
        "\n",
        "# examples = re.findall(r\"([^\\\"]+\\.)(m4a|aac|mp3)\", response.text)\n",
        "\n",
        "# audioFileURLs = list(map(lambda a: \"\".join(a), examples[0:2]))\n",
        "# for url in audioFileURLs:\n",
        "#   response = requests.get(url, verify=False)\n",
        "#   filename = re.findall(r\"[^/]+$\", url)[0]\n",
        "#   dest = f\"{myDrive}/podcast/{filename}\"\n",
        "#   with open(dest, \"wb\") as file:\n",
        "#     file.write(response.content)"
      ],
      "execution_count": null,
      "outputs": []
    }
  ]
}